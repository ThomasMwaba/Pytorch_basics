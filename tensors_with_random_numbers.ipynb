{
 "cells": [
  {
   "cell_type": "code",
   "execution_count": 1,
   "id": "e1ccaf79-a83d-4dd9-81fd-18743b4cd37c",
   "metadata": {},
   "outputs": [],
   "source": [
    "import torch\n",
    "import numpy as np\n",
    "import random"
   ]
  },
  {
   "cell_type": "code",
   "execution_count": 2,
   "id": "ae8a58ec-ff80-4956-b46a-caba247ef5a5",
   "metadata": {},
   "outputs": [],
   "source": [
    "tens1 = torch.rand(10) # This makes a 1-D tensor with 10 numbers between 0 and 1."
   ]
  },
  {
   "cell_type": "code",
   "execution_count": 3,
   "id": "fd1137c2-b25b-4ff3-82c0-b4f5023103ed",
   "metadata": {},
   "outputs": [
    {
     "data": {
      "text/plain": [
       "tensor([0.9462, 0.9627, 0.6895, 0.1032, 0.2466, 0.8981, 0.5000, 0.6918, 0.2388,\n",
       "        0.4826])"
      ]
     },
     "execution_count": 3,
     "metadata": {},
     "output_type": "execute_result"
    }
   ],
   "source": [
    "tens1"
   ]
  },
  {
   "cell_type": "code",
   "execution_count": 4,
   "id": "d995854d-8a87-4a3d-8058-605ee05d378c",
   "metadata": {},
   "outputs": [
    {
     "data": {
      "text/plain": [
       "torch.Size([10])"
      ]
     },
     "execution_count": 4,
     "metadata": {},
     "output_type": "execute_result"
    }
   ],
   "source": [
    "tens1.size() # To see the size of the tensor"
   ]
  },
  {
   "cell_type": "code",
   "execution_count": 5,
   "id": "33e2cf19-867f-4a74-99b0-fd89fe6d59d2",
   "metadata": {},
   "outputs": [],
   "source": [
    "tens2 = torch.rand(3,4) # makes a tensor with 3 rows and 4 columns."
   ]
  },
  {
   "cell_type": "code",
   "execution_count": 6,
   "id": "92188451-ee11-48f0-97e0-1f6443b440c3",
   "metadata": {},
   "outputs": [
    {
     "data": {
      "text/plain": [
       "tensor([[0.7284, 0.5009, 0.1893, 0.3906],\n",
       "        [0.2110, 0.7528, 0.1470, 0.7406],\n",
       "        [0.9771, 0.1213, 0.1968, 0.2333]])"
      ]
     },
     "execution_count": 6,
     "metadata": {},
     "output_type": "execute_result"
    }
   ],
   "source": [
    "tens2"
   ]
  },
  {
   "cell_type": "code",
   "execution_count": 7,
   "id": "9cf535d9-05fc-4836-9454-7c532b8a78d5",
   "metadata": {},
   "outputs": [
    {
     "data": {
      "text/plain": [
       "torch.Size([3, 4])"
      ]
     },
     "execution_count": 7,
     "metadata": {},
     "output_type": "execute_result"
    }
   ],
   "source": [
    "tens2.size() # To see the size of the tensor"
   ]
  },
  {
   "cell_type": "code",
   "execution_count": 8,
   "id": "64595738-e6ec-4489-be3e-9a653c52a377",
   "metadata": {},
   "outputs": [],
   "source": [
    "tens3 = torch.randn(5) #torch.randn() gives numbers that are close to 0."
   ]
  },
  {
   "cell_type": "code",
   "execution_count": 9,
   "id": "70716418-9285-459a-a216-6022e1583832",
   "metadata": {},
   "outputs": [
    {
     "data": {
      "text/plain": [
       "tensor([ 0.8251,  0.4878, -0.3683,  0.3277, -1.9531])"
      ]
     },
     "execution_count": 9,
     "metadata": {},
     "output_type": "execute_result"
    }
   ],
   "source": [
    "tens3"
   ]
  },
  {
   "cell_type": "code",
   "execution_count": 10,
   "id": "3c9b93dd-d223-4ab2-9ef7-d2028d975d54",
   "metadata": {},
   "outputs": [],
   "source": [
    "tens4 = torch.randint(low= 0,high =5,size=(5,))\n",
    "# makes a 1-D tensor of 5 integers with the lowest 0 and highest 4\n",
    "# 5 is not included"
   ]
  },
  {
   "cell_type": "code",
   "execution_count": 11,
   "id": "ada0b8ce-1bb8-4f5e-94bc-36b9a6796003",
   "metadata": {},
   "outputs": [
    {
     "data": {
      "text/plain": [
       "tensor([4, 2, 3, 4, 1])"
      ]
     },
     "execution_count": 11,
     "metadata": {},
     "output_type": "execute_result"
    }
   ],
   "source": [
    "tens4"
   ]
  },
  {
   "cell_type": "code",
   "execution_count": 12,
   "id": "c5548fed-9cb7-4148-983b-8a40747b4216",
   "metadata": {},
   "outputs": [],
   "source": [
    "tens5 = torch.randint(low= 0,high =10,size=(2,3))"
   ]
  },
  {
   "cell_type": "code",
   "execution_count": 13,
   "id": "6e94d956-2f06-4a80-9fd6-3aa5b0f57e7f",
   "metadata": {},
   "outputs": [
    {
     "data": {
      "text/plain": [
       "tensor([[5, 2, 1],\n",
       "        [1, 3, 2]])"
      ]
     },
     "execution_count": 13,
     "metadata": {},
     "output_type": "execute_result"
    }
   ],
   "source": [
    "tens5\n",
    "# makes a 2 rows and 3 columns tensor with the lowest number 0 and highest 9\n",
    "# 10 is not included"
   ]
  },
  {
   "cell_type": "code",
   "execution_count": 14,
   "id": "e2be5cbb-95aa-4fba-bd44-043fa735aa79",
   "metadata": {},
   "outputs": [],
   "source": [
    "tens6 = torch.zeros(5,5)\n",
    "# makes a tensor of 5 rows and 5 columns of zeros"
   ]
  },
  {
   "cell_type": "code",
   "execution_count": 15,
   "id": "1f13bbf8-bd8f-4ef3-9bff-9df90560e575",
   "metadata": {},
   "outputs": [],
   "source": [
    "tens7 = torch.rand_like(tens6)\n",
    "# makes a tensor of random numbers with the same shape as tens6"
   ]
  },
  {
   "cell_type": "code",
   "execution_count": 16,
   "id": "4930b91a-c754-4677-898c-054e29a44bbb",
   "metadata": {},
   "outputs": [
    {
     "data": {
      "text/plain": [
       "tensor([[0.3370, 0.9126, 0.4804, 0.5986, 0.3363],\n",
       "        [0.3746, 0.8713, 0.1880, 0.4848, 0.4719],\n",
       "        [0.4759, 0.3579, 0.7851, 0.6786, 0.2493],\n",
       "        [0.8372, 0.8088, 0.6375, 0.6997, 0.4160],\n",
       "        [0.6672, 0.4893, 0.6789, 0.0698, 0.3285]])"
      ]
     },
     "execution_count": 16,
     "metadata": {},
     "output_type": "execute_result"
    }
   ],
   "source": [
    "tens7"
   ]
  },
  {
   "cell_type": "code",
   "execution_count": 17,
   "id": "218e440b-b8ce-474b-bcd9-5fd6a6fde879",
   "metadata": {},
   "outputs": [
    {
     "data": {
      "text/plain": [
       "True"
      ]
     },
     "execution_count": 17,
     "metadata": {},
     "output_type": "execute_result"
    }
   ],
   "source": [
    "tens7.shape == tens6.shape # to see that the shapes are the same."
   ]
  },
  {
   "cell_type": "code",
   "execution_count": 18,
   "id": "8b13a0a5-1fea-4815-b473-fe78040ebfca",
   "metadata": {},
   "outputs": [],
   "source": [
    "tens8 = torch.randint_like(tens6,low=10,high=100)\n",
    "# makes a tensor of random integers with the lowest being 10 and highest 99 with the same shape as tens6"
   ]
  },
  {
   "cell_type": "code",
   "execution_count": 19,
   "id": "15cbba87-39ea-4ff2-989d-ff8d04e3475a",
   "metadata": {},
   "outputs": [
    {
     "data": {
      "text/plain": [
       "tensor([[52., 31., 96., 67., 70.],\n",
       "        [81., 54., 74., 72., 61.],\n",
       "        [50., 96., 81., 57., 83.],\n",
       "        [56., 63., 83., 32., 99.],\n",
       "        [80., 96., 55., 97., 41.]])"
      ]
     },
     "execution_count": 19,
     "metadata": {},
     "output_type": "execute_result"
    }
   ],
   "source": [
    "tens8"
   ]
  },
  {
   "cell_type": "code",
   "execution_count": 20,
   "id": "394a6ce5-dee5-4203-a154-ef133b214c73",
   "metadata": {},
   "outputs": [],
   "source": [
    "tens9 =torch.arange(6).reshape(3,2)\n",
    "# makes a tensor with 3 rows and 2 columns with the lowest number 0 and highest 5"
   ]
  },
  {
   "cell_type": "code",
   "execution_count": 21,
   "id": "842c0f1f-0e20-41a2-9120-3adb7e9fbda2",
   "metadata": {},
   "outputs": [
    {
     "data": {
      "text/plain": [
       "tensor([[0, 1],\n",
       "        [2, 3],\n",
       "        [4, 5]])"
      ]
     },
     "execution_count": 21,
     "metadata": {},
     "output_type": "execute_result"
    }
   ],
   "source": [
    "tens9"
   ]
  },
  {
   "cell_type": "code",
   "execution_count": 22,
   "id": "8c93be32-25e5-4d1d-b0ad-2f99e445a4cf",
   "metadata": {},
   "outputs": [
    {
     "data": {
      "text/plain": [
       "tensor([[0, 1],\n",
       "        [2, 3]])"
      ]
     },
     "execution_count": 22,
     "metadata": {},
     "output_type": "execute_result"
    }
   ],
   "source": [
    "tens9[0:2] # prints the first 2 rows"
   ]
  },
  {
   "cell_type": "code",
   "execution_count": 23,
   "id": "2dbb057a-549d-4d9c-b6e8-a201cb0669b9",
   "metadata": {},
   "outputs": [
    {
     "data": {
      "text/plain": [
       "tensor([3, 5])"
      ]
     },
     "execution_count": 23,
     "metadata": {},
     "output_type": "execute_result"
    }
   ],
   "source": [
    "tens9[1:,1] # prints a tensor with the last 2 numbers in the second column"
   ]
  },
  {
   "cell_type": "code",
   "execution_count": 24,
   "id": "e2e3d335-0cbb-4592-9e5d-8b08e72c72b5",
   "metadata": {},
   "outputs": [
    {
     "data": {
      "text/plain": [
       "tensor([[0, 1, 2],\n",
       "        [3, 4, 5]])"
      ]
     },
     "execution_count": 24,
     "metadata": {},
     "output_type": "execute_result"
    }
   ],
   "source": [
    "tens9.view(2,3)\n",
    "# allows us to see the shape of tens9 as a 2x3 tensor, but it doesn't change the tensor permanently."
   ]
  },
  {
   "cell_type": "code",
   "execution_count": 25,
   "id": "3f096bee-b764-44c0-8cd7-252e5db0a283",
   "metadata": {},
   "outputs": [
    {
     "data": {
      "text/plain": [
       "tensor([[0, 1, 2, 3, 4, 5]])"
      ]
     },
     "execution_count": 25,
     "metadata": {},
     "output_type": "execute_result"
    }
   ],
   "source": [
    "tens9.view(-1,6) # it solves the other dimension when we use -1"
   ]
  },
  {
   "cell_type": "code",
   "execution_count": 26,
   "id": "56cce5a5-9688-4212-ad63-fd0a4beb10d8",
   "metadata": {},
   "outputs": [
    {
     "data": {
      "text/plain": [
       "tensor([[0, 1, 2],\n",
       "        [3, 4, 5]])"
      ]
     },
     "execution_count": 26,
     "metadata": {},
     "output_type": "execute_result"
    }
   ],
   "source": [
    "tens9.view(2,-1) # gives a tensor with 2 rows and 3 columns"
   ]
  },
  {
   "cell_type": "code",
   "execution_count": 27,
   "id": "554abee4-9ba2-4612-b50a-f0c90f95aaf7",
   "metadata": {},
   "outputs": [
    {
     "data": {
      "text/plain": [
       "tensor([[True, True, True],\n",
       "        [True, True, True]])"
      ]
     },
     "execution_count": 27,
     "metadata": {},
     "output_type": "execute_result"
    }
   ],
   "source": [
    "tens9.view(2,3) == tens9.view(2,-1)"
   ]
  },
  {
   "cell_type": "markdown",
   "id": "31fe11da-8f1a-4746-bf96-4cc3e119ab78",
   "metadata": {},
   "source": [
    "##### Note"
   ]
  },
  {
   "cell_type": "code",
   "execution_count": 28,
   "id": "bddff93f-062f-4f74-a0f6-68b8326ad47b",
   "metadata": {},
   "outputs": [
    {
     "data": {
      "image/jpeg": "[encoded data removed]",
      "text/plain": [
       "<IPython.core.display.Image object>"
      ]
     },
     "execution_count": 28,
     "metadata": {},
     "output_type": "execute_result"
    }
   ],
   "source": [
    "from IPython.display import Image\n",
    "uploaded_filename = \"Probability.jpg.jpg\"\n",
    "# Display the image\n",
    "Image(filename=uploaded_filename)"
   ]
  },
  {
   "cell_type": "markdown",
   "id": "33615aaa-573d-4603-8dc2-716a6c1ea4e9",
   "metadata": {},
   "source": [
    "##### With torch.rand(), each number between 0 and 1 has an equal chance of being picked.\n",
    "##### torch.randn() is like picking numbers from a graph, where most numbers are near the average 0."
   ]
  },
  {
   "cell_type": "code",
   "execution_count": null,
   "id": "407b7f80-4dc5-41c8-924d-344b6d538fa3",
   "metadata": {},
   "outputs": [],
   "source": []
  }
 ],
 "metadata": {
  "kernelspec": {
   "display_name": "Python 3 (ipykernel)",
   "language": "python",
   "name": "python3"
  },
  "language_info": {
   "codemirror_mode": {
    "name": "ipython",
    "version": 3
   },
   "file_extension": ".py",
   "mimetype": "text/x-python",
   "name": "python",
   "nbconvert_exporter": "python",
   "pygments_lexer": "ipython3",
   "version": "3.10.13"
  }
 },
 "nbformat": 4,
 "nbformat_minor": 5
}
