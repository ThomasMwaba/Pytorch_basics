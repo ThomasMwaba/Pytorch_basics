{
 "cells": [
  {
   "cell_type": "code",
   "execution_count": 1,
   "id": "cd2ce2c5-adfa-48eb-8422-6481e54989ec",
   "metadata": {},
   "outputs": [],
   "source": [
    "import torch\n",
    "import numpy as np"
   ]
  },
  {
   "cell_type": "code",
   "execution_count": 2,
   "id": "85ef9329-bed2-4faf-89c5-82167c7189a1",
   "metadata": {},
   "outputs": [
    {
     "data": {
      "text/plain": [
       "'2.1.0'"
      ]
     },
     "execution_count": 2,
     "metadata": {},
     "output_type": "execute_result"
    }
   ],
   "source": [
    "# check version\n",
    "torch.__version__"
   ]
  },
  {
   "cell_type": "markdown",
   "id": "1d5d4627-0a09-4d6d-be08-4c5afabb39db",
   "metadata": {},
   "source": [
    "#### Changing Numpy arrays to PyTorch tensors"
   ]
  },
  {
   "cell_type": "code",
   "execution_count": 3,
   "id": "ef866e91-a56e-45e3-9fc2-89ccf0018a05",
   "metadata": {},
   "outputs": [],
   "source": [
    "arr = np.array([2,4,6,8,10])"
   ]
  },
  {
   "cell_type": "code",
   "execution_count": 6,
   "id": "5ad40470-39ca-4561-8854-b7eda2ca04bc",
   "metadata": {},
   "outputs": [
    {
     "data": {
      "text/plain": [
       "numpy.ndarray"
      ]
     },
     "execution_count": 6,
     "metadata": {},
     "output_type": "execute_result"
    }
   ],
   "source": [
    "#check type\n",
    "type(arr)"
   ]
  },
  {
   "cell_type": "code",
   "execution_count": 8,
   "id": "c6db4c3c-63ed-4ec1-90f4-53219587c89b",
   "metadata": {},
   "outputs": [
    {
     "data": {
      "text/plain": [
       "dtype('int32')"
      ]
     },
     "execution_count": 8,
     "metadata": {},
     "output_type": "execute_result"
    }
   ],
   "source": [
    "# another way to check the type\n",
    "arr.dtype"
   ]
  },
  {
   "cell_type": "code",
   "execution_count": 9,
   "id": "257ebdce-0515-4551-be88-44f67a89aa8f",
   "metadata": {},
   "outputs": [],
   "source": [
    "# To change to a tensor\n",
    "tens1 = torch.from_numpy(arr)"
   ]
  },
  {
   "cell_type": "code",
   "execution_count": 29,
   "id": "5cefe738-4897-478b-9961-eefdd61a20bc",
   "metadata": {},
   "outputs": [],
   "source": [
    "# To change to a tensor\n",
    "tens2 = torch.as_tensor(arr)"
   ]
  },
  {
   "cell_type": "code",
   "execution_count": 11,
   "id": "950a7c74-a6dc-4fbc-926d-43790c205ef4",
   "metadata": {},
   "outputs": [],
   "source": [
    "# to change the first item in arr\n",
    "arr[0] = 22"
   ]
  },
  {
   "cell_type": "code",
   "execution_count": 12,
   "id": "f66da938-c3b2-4a98-aa94-53a171ddd242",
   "metadata": {},
   "outputs": [
    {
     "name": "stdout",
     "output_type": "stream",
     "text": [
      "[22  4  6  8 10]\n",
      "tensor([22,  4,  6,  8, 10], dtype=torch.int32)\n",
      "tensor([22,  4,  6,  8, 10], dtype=torch.int32)\n"
     ]
    }
   ],
   "source": [
    "print(arr)\n",
    "print(tens1)\n",
    "print(tens2)"
   ]
  },
  {
   "cell_type": "markdown",
   "id": "e42d874e-7b10-4bf8-a7bb-862b7f0182e0",
   "metadata": {},
   "source": [
    "##### Note: Both tens1 and tens2 have a link to the arr because they share the same memory and to avoid this."
   ]
  },
  {
   "cell_type": "code",
   "execution_count": 13,
   "id": "319631ce-df7f-4128-bd1a-ea64970f045b",
   "metadata": {},
   "outputs": [],
   "source": [
    "my_arr = np.array([2,4,6,8,10])"
   ]
  },
  {
   "cell_type": "code",
   "execution_count": 14,
   "id": "f394ef6a-97f5-4f00-96fa-507b19a2be56",
   "metadata": {},
   "outputs": [],
   "source": [
    "my_tensor = torch.tensor(my_arr) # doesn't have a link to my_arr\n",
    "my_other_tensor = torch.from_numpy(my_arr) #has got a link to my_arr"
   ]
  },
  {
   "cell_type": "code",
   "execution_count": 16,
   "id": "e091c1b7-6f11-47f9-b723-6dc9c6e6c517",
   "metadata": {},
   "outputs": [],
   "source": [
    "my_arr[0] = 22"
   ]
  },
  {
   "cell_type": "code",
   "execution_count": 17,
   "id": "bc7bd2fd-58f5-4b3a-a1f1-e5e7bdef7efa",
   "metadata": {},
   "outputs": [
    {
     "name": "stdout",
     "output_type": "stream",
     "text": [
      "[22  4  6  8 10]\n",
      "tensor([22,  4,  6,  8, 10], dtype=torch.int32)\n",
      "tensor([ 2,  4,  6,  8, 10], dtype=torch.int32)\n"
     ]
    }
   ],
   "source": [
    "print(my_arr)\n",
    "print(my_other_tensor)\n",
    "print(my_tensor)"
   ]
  },
  {
   "cell_type": "markdown",
   "id": "bb881fae-cac2-4010-bf03-91ad28d1c5b3",
   "metadata": {},
   "source": [
    "###### To make a 2-D tensor"
   ]
  },
  {
   "cell_type": "code",
   "execution_count": 18,
   "id": "1c9d2c02-9ea6-474e-bf28-bab13e9181d5",
   "metadata": {},
   "outputs": [],
   "source": [
    "arr2 = [[2,4,6],[3,7,9]]"
   ]
  },
  {
   "cell_type": "code",
   "execution_count": 19,
   "id": "273d74b9-c4c6-45cb-884a-31dd5fde9ea4",
   "metadata": {},
   "outputs": [],
   "source": [
    "my_tensor2 = torch.Tensor(arr2) #makes a tensor with floats(decimal numbers)"
   ]
  },
  {
   "cell_type": "code",
   "execution_count": 20,
   "id": "6f73f5e4-d1c1-4bb8-bb9e-89f4e8b114b6",
   "metadata": {},
   "outputs": [
    {
     "data": {
      "text/plain": [
       "tensor([[2., 4., 6.],\n",
       "        [3., 7., 9.]])"
      ]
     },
     "execution_count": 20,
     "metadata": {},
     "output_type": "execute_result"
    }
   ],
   "source": [
    "my_tensor2"
   ]
  },
  {
   "cell_type": "code",
   "execution_count": 22,
   "id": "d60ca393-7412-4c7d-9992-639cd4fadd0d",
   "metadata": {},
   "outputs": [
    {
     "data": {
      "text/plain": [
       "'torch.FloatTensor'"
      ]
     },
     "execution_count": 22,
     "metadata": {},
     "output_type": "execute_result"
    }
   ],
   "source": [
    "#the third way to check type\n",
    "my_tensor2.type()"
   ]
  },
  {
   "cell_type": "code",
   "execution_count": 26,
   "id": "0641c081-aad2-449c-aedc-9ed1b1ce2edd",
   "metadata": {},
   "outputs": [],
   "source": [
    "#To change the type to integers\n",
    "my_tensor3 = my_tensor2.type(torch.int64)"
   ]
  },
  {
   "cell_type": "code",
   "execution_count": 27,
   "id": "a7e8f3c4-5b33-4400-8c8e-e79b60b74d41",
   "metadata": {},
   "outputs": [
    {
     "data": {
      "text/plain": [
       "tensor([[2, 4, 6],\n",
       "        [3, 7, 9]])"
      ]
     },
     "execution_count": 27,
     "metadata": {},
     "output_type": "execute_result"
    }
   ],
   "source": [
    "my_tensor3"
   ]
  },
  {
   "cell_type": "code",
   "execution_count": 28,
   "id": "269bfade-d336-4d70-968e-1726382e02d0",
   "metadata": {},
   "outputs": [
    {
     "data": {
      "text/plain": [
       "'torch.LongTensor'"
      ]
     },
     "execution_count": 28,
     "metadata": {},
     "output_type": "execute_result"
    }
   ],
   "source": [
    "my_tensor3.type()"
   ]
  },
  {
   "cell_type": "code",
   "execution_count": null,
   "id": "ecb94c83-0f95-4bef-a8fa-34c5796e0daa",
   "metadata": {},
   "outputs": [],
   "source": []
  }
 ],
 "metadata": {
  "kernelspec": {
   "display_name": "Python 3 (ipykernel)",
   "language": "python",
   "name": "python3"
  },
  "language_info": {
   "codemirror_mode": {
    "name": "ipython",
    "version": 3
   },
   "file_extension": ".py",
   "mimetype": "text/x-python",
   "name": "python",
   "nbconvert_exporter": "python",
   "pygments_lexer": "ipython3",
   "version": "3.10.13"
  }
 },
 "nbformat": 4,
 "nbformat_minor": 5
}
