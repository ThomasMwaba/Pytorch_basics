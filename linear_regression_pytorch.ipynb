{
 "cells": [
  {
   "cell_type": "code",
   "execution_count": 1,
   "id": "4ceeef1b-f3a1-4679-a6bf-7566729e008d",
   "metadata": {},
   "outputs": [],
   "source": [
    "import matplotlib.pyplot as plt\n",
    "import torch\n",
    "import torch.nn as nn"
   ]
  },
  {
   "cell_type": "code",
   "execution_count": 2,
   "id": "1ec2ae69-f5dc-4a5e-80b5-0fde8d8dc3d0",
   "metadata": {},
   "outputs": [
    {
     "name": "stdout",
     "output_type": "stream",
     "text": [
      "tensor([[ 1.],\n",
      "        [ 2.],\n",
      "        [ 3.],\n",
      "        [ 4.],\n",
      "        [ 5.],\n",
      "        [ 6.],\n",
      "        [ 7.],\n",
      "        [ 8.],\n",
      "        [ 9.],\n",
      "        [10.],\n",
      "        [11.],\n",
      "        [12.],\n",
      "        [13.],\n",
      "        [14.],\n",
      "        [15.],\n",
      "        [16.],\n",
      "        [17.],\n",
      "        [18.],\n",
      "        [19.],\n",
      "        [20.],\n",
      "        [21.],\n",
      "        [22.],\n",
      "        [23.],\n",
      "        [24.],\n",
      "        [25.],\n",
      "        [26.],\n",
      "        [27.],\n",
      "        [28.],\n",
      "        [29.],\n",
      "        [30.],\n",
      "        [31.],\n",
      "        [32.],\n",
      "        [33.],\n",
      "        [34.],\n",
      "        [35.],\n",
      "        [36.],\n",
      "        [37.],\n",
      "        [38.],\n",
      "        [39.],\n",
      "        [40.],\n",
      "        [41.],\n",
      "        [42.],\n",
      "        [43.],\n",
      "        [44.],\n",
      "        [45.],\n",
      "        [46.],\n",
      "        [47.],\n",
      "        [48.],\n",
      "        [49.],\n",
      "        [50.]])\n"
     ]
    }
   ],
   "source": [
    "X = torch.linspace(1,50,50,).reshape(-1,1)\n",
    "print(X) # tensor X having 50 rows and 1 column"
   ]
  },
  {
   "cell_type": "code",
   "execution_count": 3,
   "id": "c7511616-d3f8-4545-aa00-7137a7c522d2",
   "metadata": {},
   "outputs": [],
   "source": [
    "e = torch.randint(-8,9,(50,1),dtype=torch.float) # error"
   ]
  },
  {
   "cell_type": "code",
   "execution_count": 4,
   "id": "be88717c-9e11-4e04-886d-83861c7789ca",
   "metadata": {},
   "outputs": [
    {
     "data": {
      "text/plain": [
       "tensor([[-3.],\n",
       "        [ 8.],\n",
       "        [ 1.],\n",
       "        [-5.],\n",
       "        [-2.],\n",
       "        [ 6.],\n",
       "        [ 2.],\n",
       "        [ 4.],\n",
       "        [ 2.],\n",
       "        [ 5.],\n",
       "        [-8.],\n",
       "        [-3.],\n",
       "        [ 7.],\n",
       "        [-5.],\n",
       "        [ 5.],\n",
       "        [ 1.],\n",
       "        [ 6.],\n",
       "        [ 4.],\n",
       "        [ 8.],\n",
       "        [ 7.],\n",
       "        [ 1.],\n",
       "        [ 1.],\n",
       "        [ 6.],\n",
       "        [-4.],\n",
       "        [ 3.],\n",
       "        [ 2.],\n",
       "        [-5.],\n",
       "        [-1.],\n",
       "        [ 5.],\n",
       "        [-7.],\n",
       "        [-1.],\n",
       "        [-1.],\n",
       "        [-5.],\n",
       "        [ 7.],\n",
       "        [ 8.],\n",
       "        [ 7.],\n",
       "        [ 3.],\n",
       "        [ 3.],\n",
       "        [-8.],\n",
       "        [ 7.],\n",
       "        [-1.],\n",
       "        [ 4.],\n",
       "        [-5.],\n",
       "        [ 6.],\n",
       "        [-5.],\n",
       "        [-4.],\n",
       "        [-5.],\n",
       "        [ 4.],\n",
       "        [ 2.],\n",
       "        [-2.]])"
      ]
     },
     "execution_count": 4,
     "metadata": {},
     "output_type": "execute_result"
    }
   ],
   "source": [
    "e"
   ]
  },
  {
   "cell_type": "code",
   "execution_count": 5,
   "id": "80a35fbb-9572-4443-80ba-78444c18b3c3",
   "metadata": {},
   "outputs": [],
   "source": [
    "y = 2*X + 1 + e # linear regression model"
   ]
  },
  {
   "cell_type": "code",
   "execution_count": 6,
   "id": "9d68f0da-1069-407d-b15e-07d228ad1602",
   "metadata": {},
   "outputs": [
    {
     "data": {
      "text/plain": [
       "torch.Size([50, 1])"
      ]
     },
     "execution_count": 6,
     "metadata": {},
     "output_type": "execute_result"
    }
   ],
   "source": [
    "y.shape # size of tensor y"
   ]
  },
  {
   "cell_type": "code",
   "execution_count": null,
   "id": "7958a6ad-a803-40b9-bbc7-5050f997d15e",
   "metadata": {},
   "outputs": [],
   "source": []
  },
  {
   "cell_type": "code",
   "execution_count": 7,
   "id": "ade3fd7a-f16c-457e-bd91-b25c0de9d84e",
   "metadata": {},
   "outputs": [
    {
     "data": {
      "image/png": "[encoded data removed]",
      "text/plain": [
       "<Figure size 640x480 with 1 Axes>"
      ]
     },
     "metadata": {},
     "output_type": "display_data"
    }
   ],
   "source": [
    "#to plot x and y we need to convert it to numpy array\n",
    "plt.scatter(X.numpy(),y.numpy())\n",
    "plt.xlabel(\"X\")\n",
    "plt.ylabel(\"y\")\n",
    "plt.show()"
   ]
  },
  {
   "cell_type": "code",
   "execution_count": 8,
   "id": "eb878d23-7898-4ae0-b923-d8bfddef9323",
   "metadata": {},
   "outputs": [
    {
     "name": "stdout",
     "output_type": "stream",
     "text": [
      "Parameter containing:\n",
      "tensor([[0.2745]], requires_grad=True) Parameter containing:\n",
      "tensor([-0.0092], requires_grad=True)\n"
     ]
    }
   ],
   "source": [
    "# Create a linear model using PyTorch's nn module\n",
    "model = nn.Linear(in_features = 1, out_features = 1)\n",
    "# Print the weight and bias of the model\n",
    "print(model.weight,model.bias)"
   ]
  },
  {
   "cell_type": "code",
   "execution_count": 9,
   "id": "e1b1cb03-67e2-48e1-a468-f301fa672f96",
   "metadata": {},
   "outputs": [],
   "source": [
    "class Model(nn.Module):\n",
    "    # Initialize the model with input and output features.\n",
    "    def __init__(self, in_features, out_features):\n",
    "        super().__init__()  # Initialize the parent class.\n",
    "        self.linear = nn.Linear(in_features, out_features)  # Create a linear layer.\n",
    "    \n",
    "    # Define the forward pass of the model.\n",
    "    def forward(self, X):\n",
    "        y_pred = self.linear(X)  # Perform linear transformation.\n",
    "        return y_pred  # Return the prediction.   "
   ]
  },
  {
   "cell_type": "code",
   "execution_count": 10,
   "id": "c114f18a-c0f2-41d3-8412-69f9334a73d1",
   "metadata": {},
   "outputs": [
    {
     "name": "stdout",
     "output_type": "stream",
     "text": [
      "Parameter containing:\n",
      "tensor([[0.0657]], requires_grad=True)\n",
      "Parameter containing:\n",
      "tensor([0.1975], requires_grad=True)\n"
     ]
    }
   ],
   "source": [
    "model = Model(1,1) # Create a model instance\n",
    "print(model.linear.weight) # Print the weights of the linear layer.\n",
    "print(model.linear.bias) # Print the bias of the linear layer."
   ]
  },
  {
   "cell_type": "code",
   "execution_count": 11,
   "id": "212b9002-e65f-4e8b-8ef9-b6c410c1a2ef",
   "metadata": {},
   "outputs": [
    {
     "name": "stdout",
     "output_type": "stream",
     "text": [
      "linear.weight \t 0.06571066379547119\n",
      "linear.bias \t 0.19750630855560303\n"
     ]
    }
   ],
   "source": [
    "for name, param in model.named_parameters(): # Iterate through model parameters\n",
    "    print(name, '\\t',param.item()) # Print parameter name and its value."
   ]
  },
  {
   "cell_type": "code",
   "execution_count": 12,
   "id": "5906dc67-0753-4f66-bf36-37c441a6acdb",
   "metadata": {},
   "outputs": [
    {
     "name": "stdout",
     "output_type": "stream",
     "text": [
      "tensor([0.3289], grad_fn=<ViewBackward0>)\n"
     ]
    }
   ],
   "source": [
    "x = torch.tensor([2.0]) # Create a tensor with a single element 2.0\n",
    "print(model.forward(x)) # Pass the tensor through the model and print the result"
   ]
  },
  {
   "cell_type": "code",
   "execution_count": 13,
   "id": "9c70d14b-7d4c-4c03-b184-f22256a0b4d3",
   "metadata": {},
   "outputs": [],
   "source": [
    "import numpy as np"
   ]
  },
  {
   "cell_type": "code",
   "execution_count": 14,
   "id": "733d2415-d475-4f8f-810f-c995e416e01b",
   "metadata": {},
   "outputs": [],
   "source": [
    "x1 = np.linspace(0.0,50.0,50) # create an array 'x1' containing 50 evenly spaced values between 0.0 and 50.0"
   ]
  },
  {
   "cell_type": "code",
   "execution_count": 15,
   "id": "9de9a33e-4d26-438e-925f-0669986fce05",
   "metadata": {},
   "outputs": [
    {
     "data": {
      "text/plain": [
       "array([ 0.        ,  1.02040816,  2.04081633,  3.06122449,  4.08163265,\n",
       "        5.10204082,  6.12244898,  7.14285714,  8.16326531,  9.18367347,\n",
       "       10.20408163, 11.2244898 , 12.24489796, 13.26530612, 14.28571429,\n",
       "       15.30612245, 16.32653061, 17.34693878, 18.36734694, 19.3877551 ,\n",
       "       20.40816327, 21.42857143, 22.44897959, 23.46938776, 24.48979592,\n",
       "       25.51020408, 26.53061224, 27.55102041, 28.57142857, 29.59183673,\n",
       "       30.6122449 , 31.63265306, 32.65306122, 33.67346939, 34.69387755,\n",
       "       35.71428571, 36.73469388, 37.75510204, 38.7755102 , 39.79591837,\n",
       "       40.81632653, 41.83673469, 42.85714286, 43.87755102, 44.89795918,\n",
       "       45.91836735, 46.93877551, 47.95918367, 48.97959184, 50.        ])"
      ]
     },
     "execution_count": 15,
     "metadata": {},
     "output_type": "execute_result"
    }
   ],
   "source": [
    "x1"
   ]
  },
  {
   "cell_type": "code",
   "execution_count": 16,
   "id": "715f159f-b676-4270-8de5-fcee056a1ce0",
   "metadata": {},
   "outputs": [
    {
     "name": "stdout",
     "output_type": "stream",
     "text": [
      "[0.1975     0.26454082 0.33158163 0.39862245 0.46566327 0.53270408\n",
      " 0.5997449  0.66678571 0.73382653 0.80086735 0.86790816 0.93494898\n",
      " 1.0019898  1.06903061 1.13607143 1.20311224 1.27015306 1.33719388\n",
      " 1.40423469 1.47127551 1.53831633 1.60535714 1.67239796 1.73943878\n",
      " 1.80647959 1.87352041 1.94056122 2.00760204 2.07464286 2.14168367\n",
      " 2.20872449 2.27576531 2.34280612 2.40984694 2.47688776 2.54392857\n",
      " 2.61096939 2.6780102  2.74505102 2.81209184 2.87913265 2.94617347\n",
      " 3.01321429 3.0802551  3.14729592 3.21433673 3.28137755 3.34841837\n",
      " 3.41545918 3.4825    ]\n"
     ]
    }
   ],
   "source": [
    "w1 = 0.0657 # Set the value of w1\n",
    "b1 = 0.1975  # Set the value of b1\n",
    "y1 = w1*x1 + b1 # Calculate y1 using the linear equation y1 = w1*x1 + b1\n",
    "print(y1) # Print the values of y1"
   ]
  },
  {
   "cell_type": "code",
   "execution_count": 17,
   "id": "bd4a77ca-590a-4c9a-9688-232cb710ee6e",
   "metadata": {},
   "outputs": [
    {
     "data": {
      "text/plain": [
       "[<matplotlib.lines.Line2D at 0x16900058d60>]"
      ]
     },
     "execution_count": 17,
     "metadata": {},
     "output_type": "execute_result"
    },
    {
     "data": {
      "image/png": "[encoded data removed]",
      "text/plain": [
       "<Figure size 640x480 with 1 Axes>"
      ]
     },
     "metadata": {},
     "output_type": "display_data"
    }
   ],
   "source": [
    "plt.scatter(X.numpy(),y.numpy()) # Plot a scatter plot of X and y\n",
    "plt.plot(x1,y1,'r') # Plot a line plot with x1 and y1, colored in red ('r')"
   ]
  },
  {
   "cell_type": "code",
   "execution_count": 18,
   "id": "526c268d-53f3-4297-93f0-ff342791a060",
   "metadata": {},
   "outputs": [],
   "source": [
    "criterion = nn.MSELoss() # Create an instance of the Mean Squared Error (MSE) loss function"
   ]
  },
  {
   "cell_type": "code",
   "execution_count": 19,
   "id": "ea31930d-7df4-4481-8903-beb55889bab6",
   "metadata": {},
   "outputs": [],
   "source": [
    "optimizer = torch.optim.SGD(model.parameters(),lr = 0.01) # Create an optimizer using stochastic gradient descent (SGD) with a learning rate of 0.01"
   ]
  },
  {
   "cell_type": "code",
   "execution_count": 20,
   "id": "5f1493e2-e3f2-428b-b6e2-4da5e4b86b89",
   "metadata": {},
   "outputs": [
    {
     "name": "stdout",
     "output_type": "stream",
     "text": [
      "epoch 1 loss: 3397.02099609375 weight: 0.06571066379547119 bias : 0.19750630855560303\n",
      "epoch 2 loss: 883621.625 weight: 34.099124908447266 bias : 1.2220436334609985\n",
      "epoch 3 loss: 231466512.0 weight: -516.74365234375 bias : -15.130950927734375\n",
      "epoch 4 loss: 60634783744.0 weight: 8398.724609375 bias : 249.77291870117188\n",
      "epoch 5 loss: 15883838685184.0 weight: -135899.515625 bias : -4037.509765625\n",
      "epoch 6 loss: 4160916266418176.0 weight: 2199589.25 bias : 65353.0546875\n",
      "epoch 7 loss: 1.0899899257989366e+18 weight: -35600648.0 bias : -1057743.5\n",
      "epoch 8 loss: 2.85532790343661e+20 weight: 576201920.0 bias : 17119742.0\n",
      "epoch 9 loss: 7.479793983559071e+22 weight: -9325916160.0 bias : -277085600.0\n",
      "epoch 10 loss: 1.959400703957179e+25 weight: 150941384704.0 bias : 4484673024.0\n",
      "epoch 11 loss: 5.132829855194192e+27 weight: -2443009327104.0 bias : -72585125888.0\n",
      "epoch 12 loss: 1.3445919284389652e+30 weight: 39540479754240.0 bias : 1174801219584.0\n",
      "epoch 13 loss: 3.522281005846497e+32 weight: -639968649150464.0 bias : -19014338215936.0\n",
      "epoch 14 loss: 9.226937555564042e+34 weight: 1.0357989017911296e+16 bias : 307749976014848.0\n",
      "epoch 15 loss: inf weight: -1.6764563026345984e+17 bias : -4980979336740864.0\n",
      "epoch 16 loss: inf weight: 2.713369847223288e+18 bias : 8.061790194552013e+16\n",
      "epoch 17 loss: inf weight: -4.391629761244299e+19 bias : -1.3048129886701486e+18\n",
      "epoch 18 loss: inf weight: 7.107919405575611e+20 bias : 2.1118594712600576e+19\n",
      "epoch 19 loss: inf weight: -1.1504275237231999e+22 bias : -3.418076602249574e+20\n",
      "epoch 20 loss: inf weight: 1.8619844428987164e+23 bias : 5.532209397362942e+21\n",
      "epoch 21 loss: inf weight: -3.0136500556990763e+24 bias : -8.953963104265771e+22\n",
      "epoch 22 loss: inf weight: 4.8776387229298825e+25 bias : 1.4492126755732056e+24\n",
      "epoch 23 loss: inf weight: -7.894532788454116e+26 bias : -2.345572914846747e+25\n",
      "epoch 24 loss: inf weight: 1.277742269067923e+28 bias : 3.796345464392648e+26\n",
      "epoch 25 loss: inf weight: -2.0680453643252384e+29 bias : -6.14444280694251e+27\n",
      "epoch 26 loss: inf weight: 3.3471628904050356e+30 bias : 9.944875966520125e+28\n",
      "epoch 27 loss: inf weight: -5.417434030724126e+31 bias : -1.609593152686043e+30\n",
      "epoch 28 loss: inf weight: 8.768199314554224e+32 bias : 2.6051512418176446e+31\n",
      "epoch 29 loss: inf weight: -1.41914673117988e+34 bias : -4.2164759994014126e+32\n",
      "epoch 30 loss: inf weight: 2.296910393844851e+35 bias : 6.824433525559832e+33\n",
      "epoch 31 loss: inf weight: -inf bias : -1.1045447704825511e+35\n",
      "epoch 32 loss: nan weight: nan bias : inf\n",
      "epoch 33 loss: nan weight: nan bias : nan\n",
      "epoch 34 loss: nan weight: nan bias : nan\n",
      "epoch 35 loss: nan weight: nan bias : nan\n",
      "epoch 36 loss: nan weight: nan bias : nan\n",
      "epoch 37 loss: nan weight: nan bias : nan\n",
      "epoch 38 loss: nan weight: nan bias : nan\n",
      "epoch 39 loss: nan weight: nan bias : nan\n",
      "epoch 40 loss: nan weight: nan bias : nan\n",
      "epoch 41 loss: nan weight: nan bias : nan\n",
      "epoch 42 loss: nan weight: nan bias : nan\n",
      "epoch 43 loss: nan weight: nan bias : nan\n",
      "epoch 44 loss: nan weight: nan bias : nan\n",
      "epoch 45 loss: nan weight: nan bias : nan\n",
      "epoch 46 loss: nan weight: nan bias : nan\n",
      "epoch 47 loss: nan weight: nan bias : nan\n",
      "epoch 48 loss: nan weight: nan bias : nan\n",
      "epoch 49 loss: nan weight: nan bias : nan\n",
      "epoch 50 loss: nan weight: nan bias : nan\n"
     ]
    }
   ],
   "source": [
    "epochs = 50\n",
    "losses = []\n",
    "for i in range(epochs):\n",
    "    i = i + 1 \n",
    "    #PREDICTING ON THE FORWARD PASS\n",
    "    y_pred = model.forward(X)\n",
    "    # CALCULATE OUR LOSS (ERROR)\n",
    "    loss = criterion(y_pred,y)\n",
    "    # RECORD THAT ERROR\n",
    "    losses.append(loss.item())\n",
    "    print(f'epoch {i} loss: {loss.item()} weight: {model.linear.weight.item()} bias : {model.linear.bias.item()}')\n",
    "    optimizer.zero_grad()\n",
    "    #The optimizer.zero_grad() is like telling the computer, \"Forget what you knew about how to recognize things for a moment. Let's start fresh.\"\n",
    "    #It's a way of cleaning the slate before the computer tries to learn from a new set of examples. This step is crucial because we want the computer to learn from each batch of examples independently, without any influence from what it learned before\"\"\"\n",
    "    loss.backward()\n",
    "    optimizer.step()\n",
    "    #optimizer.step() is like telling the computer, \"Okay, you've looked at some examples, made some mistakes, and learned from them. Now, make small adjustments to get better at recognizing things."
   ]
  },
  {
   "cell_type": "code",
   "execution_count": 21,
   "id": "be4ff7b3-a143-4299-b4cd-6042eea63444",
   "metadata": {},
   "outputs": [
    {
     "data": {
      "text/plain": [
       "Text(0.5, 0, 'Epochs')"
      ]
     },
     "execution_count": 21,
     "metadata": {},
     "output_type": "execute_result"
    },
    {
     "data": {
      "image/png": "[encoded data removed]",
      "text/plain": [
       "<Figure size 640x480 with 1 Axes>"
      ]
     },
     "metadata": {},
     "output_type": "display_data"
    }
   ],
   "source": [
    "plt.plot(range(epochs),losses) # Plot the MSE loss values over the epochs\n",
    "plt.ylabel('MSE LOSS') # Set the label for the y-axis\n",
    "plt.xlabel('Epochs') # Set the label for the x-axis"
   ]
  },
  {
   "cell_type": "code",
   "execution_count": null,
   "id": "bc4f24b5-8a64-4d05-8894-6997f04410b6",
   "metadata": {},
   "outputs": [],
   "source": []
  },
  {
   "cell_type": "code",
   "execution_count": null,
   "id": "947ff037-5df0-422e-a8d5-0931200e51d5",
   "metadata": {},
   "outputs": [],
   "source": []
  }
 ],
 "metadata": {
  "kernelspec": {
   "display_name": "Python 3 (ipykernel)",
   "language": "python",
   "name": "python3"
  },
  "language_info": {
   "codemirror_mode": {
    "name": "ipython",
    "version": 3
   },
   "file_extension": ".py",
   "mimetype": "text/x-python",
   "name": "python",
   "nbconvert_exporter": "python",
   "pygments_lexer": "ipython3",
   "version": "3.10.13"
  }
 },
 "nbformat": 4,
 "nbformat_minor": 5
}
