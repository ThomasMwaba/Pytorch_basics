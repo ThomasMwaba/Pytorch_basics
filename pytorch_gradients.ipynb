{
 "cells": [
  {
   "cell_type": "code",
   "execution_count": 1,
   "id": "421ff9bb-3492-49d2-93ef-530b7b55acf9",
   "metadata": {},
   "outputs": [],
   "source": [
    "import numpy\n",
    "import torch"
   ]
  },
  {
   "cell_type": "code",
   "execution_count": 3,
   "id": "f76f51b6-c0f8-43cf-af33-33c09cc3e51e",
   "metadata": {},
   "outputs": [],
   "source": [
    "x = torch.tensor(2.0,requires_grad= True)\n",
    "#\"x\" with a value of 2.0 and tells the program to remember the steps taken on this variable so it can figure out how those steps affect \"x\" during a process called backpropagation,"
   ]
  },
  {
   "cell_type": "code",
   "execution_count": 4,
   "id": "2dd2e95e-6556-4fc7-a508-c6a71b375713",
   "metadata": {},
   "outputs": [],
   "source": [
    "y = x**2 + 4*x + 4 # a function y with the variable x"
   ]
  },
  {
   "cell_type": "code",
   "execution_count": 5,
   "id": "14cfb8e4-a721-4582-b3fe-ffe2be37baa2",
   "metadata": {},
   "outputs": [
    {
     "name": "stdout",
     "output_type": "stream",
     "text": [
      "tensor(16., grad_fn=<AddBackward0>)\n"
     ]
    }
   ],
   "source": [
    "print(y) # when we write 2 in place of x"
   ]
  },
  {
   "cell_type": "code",
   "execution_count": 6,
   "id": "65c83617-48f2-49c9-b928-816b27814d56",
   "metadata": {},
   "outputs": [],
   "source": [
    "y.backward() # runs backpropagation"
   ]
  },
  {
   "cell_type": "markdown",
   "id": "15a62967-1d82-4b57-b25b-4e21e8086e08",
   "metadata": {},
   "source": [
    "###### Backward propagation is used  for adjusting the weights of a neural network by propagating the error backward from the output layer to the input layer"
   ]
  },
  {
   "cell_type": "code",
   "execution_count": 7,
   "id": "222e9b30-4173-47e0-840a-1d41f44e86ef",
   "metadata": {},
   "outputs": [
    {
     "data": {
      "text/plain": [
       "tensor(8.)"
      ]
     },
     "execution_count": 7,
     "metadata": {},
     "output_type": "execute_result"
    }
   ],
   "source": [
    "x.grad # the derivative of y where x = 2"
   ]
  },
  {
   "cell_type": "code",
   "execution_count": 10,
   "id": "6b7713cc-a2a9-4da5-9d0c-a843b27f1967",
   "metadata": {},
   "outputs": [
    {
     "name": "stdout",
     "output_type": "stream",
     "text": [
      "tensor([[1., 2.],\n",
      "        [3., 4.]], requires_grad=True)\n"
     ]
    }
   ],
   "source": [
    "x_new = torch.tensor([[1.,2.],[3.,4.]],requires_grad = True)\n",
    "print(x_new)"
   ]
  },
  {
   "cell_type": "markdown",
   "id": "72101ac6-26f4-420e-9564-7f16d66c3ac0",
   "metadata": {},
   "source": [
    "#### First Layer"
   ]
  },
  {
   "cell_type": "code",
   "execution_count": 12,
   "id": "f94c058e-26a2-4d02-a526-e7ed18260388",
   "metadata": {},
   "outputs": [
    {
     "name": "stdout",
     "output_type": "stream",
     "text": [
      "tensor([[4., 5.],\n",
      "        [6., 7.]], grad_fn=<AddBackward0>)\n"
     ]
    }
   ],
   "source": [
    "y = x_new + 3\n",
    "print(y)"
   ]
  },
  {
   "cell_type": "markdown",
   "id": "aae13bae-c788-4f70-b0a3-b07e069d68a3",
   "metadata": {},
   "source": [
    "#### Second Layer"
   ]
  },
  {
   "cell_type": "code",
   "execution_count": 13,
   "id": "3c8e8961-09a2-4a4e-86cb-3c49ead7e0dc",
   "metadata": {},
   "outputs": [
    {
     "name": "stdout",
     "output_type": "stream",
     "text": [
      "tensor([[12., 15.],\n",
      "        [18., 21.]], grad_fn=<MulBackward0>)\n"
     ]
    }
   ],
   "source": [
    "z = 3*y\n",
    "print(z)"
   ]
  },
  {
   "cell_type": "markdown",
   "id": "64c6ebf3-e322-40dc-808a-ef3b868dc2e3",
   "metadata": {},
   "source": [
    "#### Output Layer"
   ]
  },
  {
   "cell_type": "code",
   "execution_count": 14,
   "id": "d12615d8-159c-4adc-a938-00c5b2951010",
   "metadata": {},
   "outputs": [
    {
     "name": "stdout",
     "output_type": "stream",
     "text": [
      "tensor(16.5000, grad_fn=<MeanBackward0>)\n"
     ]
    }
   ],
   "source": [
    "out = z.mean() #calculates the average of z\n",
    "print(out) "
   ]
  },
  {
   "cell_type": "markdown",
   "id": "987f18e5-14e1-4be3-9b91-685a18494992",
   "metadata": {},
   "source": [
    "#### Backward Propagation"
   ]
  },
  {
   "cell_type": "code",
   "execution_count": 15,
   "id": "d184ceda-0b1e-4560-a6c5-389198620f92",
   "metadata": {},
   "outputs": [],
   "source": [
    "out.backward() # runs backpropagation"
   ]
  },
  {
   "cell_type": "code",
   "execution_count": 17,
   "id": "4cabcc9e-f6f7-4868-842f-9239bc242bcc",
   "metadata": {},
   "outputs": [
    {
     "data": {
      "text/plain": [
       "tensor([[0.7500, 0.7500],\n",
       "        [0.7500, 0.7500]])"
      ]
     },
     "execution_count": 17,
     "metadata": {},
     "output_type": "execute_result"
    }
   ],
   "source": [
    "x_new.grad #the derivative of y where x"
   ]
  },
  {
   "cell_type": "code",
   "execution_count": null,
   "id": "869511d9-63eb-4cb8-b0fc-72d043d1493f",
   "metadata": {},
   "outputs": [],
   "source": []
  }
 ],
 "metadata": {
  "kernelspec": {
   "display_name": "Python 3 (ipykernel)",
   "language": "python",
   "name": "python3"
  },
  "language_info": {
   "codemirror_mode": {
    "name": "ipython",
    "version": 3
   },
   "file_extension": ".py",
   "mimetype": "text/x-python",
   "name": "python",
   "nbconvert_exporter": "python",
   "pygments_lexer": "ipython3",
   "version": "3.10.13"
  }
 },
 "nbformat": 4,
 "nbformat_minor": 5
}
